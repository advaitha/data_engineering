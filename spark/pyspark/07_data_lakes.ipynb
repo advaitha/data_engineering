{
 "cells": [
  {
   "attachments": {},
   "cell_type": "markdown",
   "metadata": {},
   "source": [
    "# Building Delta Lakes with Apache Spark"
   ]
  },
  {
   "attachments": {},
   "cell_type": "markdown",
   "metadata": {},
   "source": [
    "### Why Data Lakes are required?"
   ]
  },
  {
   "attachments": {},
   "cell_type": "markdown",
   "metadata": {},
   "source": [
    "The importance of an Optimal Storage Solution:  \n",
    "* Scalability and performance\n",
    "* Transaction support\n",
    "* Support for diverse data formats\n",
    "* Support for diverse workloads\n",
    "* Openness\n",
    "  "
   ]
  },
  {
   "attachments": {},
   "cell_type": "markdown",
   "metadata": {},
   "source": [
    "Different storage solutions available:  \n",
    "* Databases\n",
    "* Data lakes\n",
    "* Lake houses\n",
    "  \n"
   ]
  },
  {
   "attachments": {},
   "cell_type": "markdown",
   "metadata": {},
   "source": [
    "## Databases"
   ]
  },
  {
   "attachments": {},
   "cell_type": "markdown",
   "metadata": {},
   "source": [
    "* Designed to store structured data as tables\n",
    "* Adherence to strict schema\n",
    "* Strong transactional ACID guarantees\n",
    "* SQL workloads\n",
    "    * OLTP\n",
    "    * OLAP (Supported by Spark)"
   ]
  },
  {
   "attachments": {},
   "cell_type": "markdown",
   "metadata": {},
   "source": [
    "### Limitations of Databases"
   ]
  },
  {
   "attachments": {},
   "cell_type": "markdown",
   "metadata": {},
   "source": [
    "Trends in the Industry  \n",
    "* Growth in data sizes\n",
    "* Growth in diversity of analytics\n",
    "\n",
    "Limitations of the Databases  \n",
    "* Databases are extremely expensive to scale out\n",
    "* Databases do not support non-sql analytics well\n",
    "\n",
    "These development led to the Growth of Data Lakes  "
   ]
  },
  {
   "attachments": {},
   "cell_type": "markdown",
   "metadata": {},
   "source": [
    "## Data Lakes"
   ]
  },
  {
   "attachments": {},
   "cell_type": "markdown",
   "metadata": {},
   "source": [
    "Data lakes decouple storage and the compute.\n",
    "Data lakes are built by choosing the following:  \n",
    "* Storage system - HDFS or cloud object store\n",
    "* File format - Parquet, ORC, JSON\n",
    "* Processing engine - Spark, Presto, Flink \n",
    "Data lakes provide a cheaper solution than databases."
   ]
  },
  {
   "attachments": {},
   "cell_type": "markdown",
   "metadata": {},
   "source": [
    "#### Why use Apache Spark for Building Data Lakes"
   ]
  },
  {
   "attachments": {},
   "cell_type": "markdown",
   "metadata": {},
   "source": [
    "* Support for diverse workloads\n",
    "  * Batch processing\n",
    "  * Stream processing\n",
    "  * ETL\n",
    "  * SQL workloads\n",
    "  * ML\n",
    "* Support for diverse file formats\n",
    "* Support for diverse file systems\n",
    "  * Read and write to different storage systems"
   ]
  },
  {
   "attachments": {},
   "cell_type": "markdown",
   "metadata": {},
   "source": [
    "### Limitations of Data Lakes"
   ]
  },
  {
   "attachments": {},
   "cell_type": "markdown",
   "metadata": {},
   "source": [
    "* Fail to provide ACID guarantees\n",
    "  * No mechanism to roll back files already written\n",
    "  * No isolation when concurrent workloads modify the data\n",
    "  * Inconsistent view of data due to failed writes\n",
    "  * Writing out files in a format and schema inconsistent with existing data "
   ]
  },
  {
   "attachments": {},
   "cell_type": "markdown",
   "metadata": {},
   "source": [
    "## Lakehouses"
   ]
  },
  {
   "attachments": {},
   "cell_type": "markdown",
   "metadata": {},
   "source": [
    "* It combines the best elements of databases and data lakes\n",
    "* ACID guarantees for transaction support\n",
    "* Schema enforcement\n",
    "* Support for diverse datatypes\n",
    "* Support for diverse workloads\n",
    "* Support for upserts and deletes\n",
    "* Data governance\n",
    "\n",
    "Lakehouse systems available:  \n",
    "* Apache Hudi\n",
    "* Apache Iceberg\n",
    "* Delta Lake \n",
    "  * strong integration with Apace Spark\n",
    "  * Developed by the creators of Spark\n",
    "\n",
    "They do the following:  \n",
    "* Store large volumes of data in structured file formats\n",
    "* Scalable filesystems\n",
    "* Maintain a transaction log to record timeline of atomic changes to the data\n",
    "* Use log to define versions of the table data\n",
    "* Isolation guarantees between readers and writers\n",
    "* Support reading and writing with Apache Spark"
   ]
  },
  {
   "attachments": {},
   "cell_type": "markdown",
   "metadata": {},
   "source": [
    "## Delta Lake"
   ]
  },
  {
   "attachments": {},
   "cell_type": "markdown",
   "metadata": {},
   "source": [
    "It supports:  \n",
    "  * Open data storage format\n",
    "  * Provides transactional guarantees  \n",
    "  * Schema enforcement  \n",
    "  * Schema evolution  \n",
    "  * Support structured streaming  \n",
    "  * Update, delete and merge operations in Java, Scala and Python  \n",
    "  * Time travel  \n",
    "  * Rollback to previous versions  \n",
    "  * Isolation between multiple concurrent writers   "
   ]
  },
  {
   "cell_type": "markdown",
   "metadata": {},
   "source": [
    "### Building a Delta Lake"
   ]
  },
  {
   "attachments": {},
   "cell_type": "markdown",
   "metadata": {},
   "source": [
    "Install Delta in python environment\n",
    "```\n",
    "pip install delta-spark\n",
    "```\n",
    "and configure SparkSession with `configure_spark_with_delta_pip()`"
   ]
  },
  {
   "cell_type": "code",
   "execution_count": 2,
   "metadata": {},
   "outputs": [],
   "source": [
    "from delta import *\n",
    "from pyspark.sql import SparkSession"
   ]
  },
  {
   "cell_type": "code",
   "execution_count": 4,
   "metadata": {},
   "outputs": [
    {
     "name": "stdout",
     "output_type": "stream",
     "text": [
      "23/05/07 09:59:52 WARN Utils: Your hostname, thulasiram resolves to a loopback address: 127.0.1.1; using 192.168.0.105 instead (on interface wlp0s20f3)\n",
      "23/05/07 09:59:52 WARN Utils: Set SPARK_LOCAL_IP if you need to bind to another address\n",
      ":: loading settings :: url = jar:file:/home/thulasiram/mambaforge/envs/spark_learn/lib/python3.9/site-packages/pyspark/jars/ivy-2.5.1.jar!/org/apache/ivy/core/settings/ivysettings.xml\n"
     ]
    },
    {
     "name": "stderr",
     "output_type": "stream",
     "text": [
      "Ivy Default Cache set to: /home/thulasiram/.ivy2/cache\n",
      "The jars for the packages stored in: /home/thulasiram/.ivy2/jars\n",
      "io.delta#delta-core_2.12 added as a dependency\n",
      ":: resolving dependencies :: org.apache.spark#spark-submit-parent-38aecb9f-d28c-45a4-85dc-63c8a58a46ee;1.0\n",
      "\tconfs: [default]\n",
      "\tfound io.delta#delta-core_2.12;2.3.0 in central\n",
      "\tfound io.delta#delta-storage;2.3.0 in central\n",
      "\tfound org.antlr#antlr4-runtime;4.8 in central\n",
      "downloading https://repo1.maven.org/maven2/io/delta/delta-core_2.12/2.3.0/delta-core_2.12-2.3.0.jar ...\n",
      "\t[SUCCESSFUL ] io.delta#delta-core_2.12;2.3.0!delta-core_2.12.jar (3864ms)\n",
      "downloading https://repo1.maven.org/maven2/io/delta/delta-storage/2.3.0/delta-storage-2.3.0.jar ...\n",
      "\t[SUCCESSFUL ] io.delta#delta-storage;2.3.0!delta-storage.jar (622ms)\n",
      "downloading https://repo1.maven.org/maven2/org/antlr/antlr4-runtime/4.8/antlr4-runtime-4.8.jar ...\n",
      "\t[SUCCESSFUL ] org.antlr#antlr4-runtime;4.8!antlr4-runtime.jar (741ms)\n",
      ":: resolution report :: resolve 7161ms :: artifacts dl 5233ms\n",
      "\t:: modules in use:\n",
      "\tio.delta#delta-core_2.12;2.3.0 from central in [default]\n",
      "\tio.delta#delta-storage;2.3.0 from central in [default]\n",
      "\torg.antlr#antlr4-runtime;4.8 from central in [default]\n",
      "\t---------------------------------------------------------------------\n",
      "\t|                  |            modules            ||   artifacts   |\n",
      "\t|       conf       | number| search|dwnlded|evicted|| number|dwnlded|\n",
      "\t---------------------------------------------------------------------\n",
      "\t|      default     |   3   |   3   |   3   |   0   ||   3   |   3   |\n",
      "\t---------------------------------------------------------------------\n",
      ":: retrieving :: org.apache.spark#spark-submit-parent-38aecb9f-d28c-45a4-85dc-63c8a58a46ee\n",
      "\tconfs: [default]\n",
      "\t3 artifacts copied, 0 already retrieved (4246kB/6ms)\n"
     ]
    },
    {
     "name": "stdout",
     "output_type": "stream",
     "text": [
      "23/05/07 10:00:05 WARN NativeCodeLoader: Unable to load native-hadoop library for your platform... using builtin-java classes where applicable\n"
     ]
    },
    {
     "name": "stderr",
     "output_type": "stream",
     "text": [
      "Setting default log level to \"WARN\".\n",
      "To adjust logging level use sc.setLogLevel(newLevel). For SparkR, use setLogLevel(newLevel).\n"
     ]
    }
   ],
   "source": [
    "builder = SparkSession.builder.appName(\"Myapp\") \\\n",
    "    .config(\"spark.sql.extensions\",\"io.delta.sql.DeltaSparkSessionExtension\") \\\n",
    "    .config(\"spark.sql.catalog.spark_catalog\",\"org.apache.spark.sql.delta.catalog.DeltaCatalog\")\n",
    "\n",
    "spark = configure_spark_with_delta_pip(builder).getOrCreate()"
   ]
  },
  {
   "cell_type": "code",
   "execution_count": null,
   "metadata": {},
   "outputs": [],
   "source": []
  }
 ],
 "metadata": {
  "kernelspec": {
   "display_name": "spark_learn",
   "language": "python",
   "name": "python3"
  },
  "language_info": {
   "codemirror_mode": {
    "name": "ipython",
    "version": 3
   },
   "file_extension": ".py",
   "mimetype": "text/x-python",
   "name": "python",
   "nbconvert_exporter": "python",
   "pygments_lexer": "ipython3",
   "version": "3.9.0"
  },
  "orig_nbformat": 4
 },
 "nbformat": 4,
 "nbformat_minor": 2
}
