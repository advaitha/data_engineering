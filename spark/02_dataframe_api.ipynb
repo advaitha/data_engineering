{
 "cells": [
  {
   "cell_type": "markdown",
   "metadata": {},
   "source": [
    "# Creating a simple spark Application"
   ]
  },
  {
   "cell_type": "code",
   "execution_count": 2,
   "metadata": {},
   "outputs": [],
   "source": [
    "from pyspark.sql import SparkSession\n",
    "from pyspark.sql.functions import avg"
   ]
  },
  {
   "cell_type": "code",
   "execution_count": 9,
   "metadata": {},
   "outputs": [],
   "source": [
    "spark = (SparkSession\n",
    "    .builder\n",
    "    .appName(\"FirstProgram\")\n",
    "    .getOrCreate())\n",
    "\n",
    "data = spark.createDataFrame([(\"Amar\",21),(\"Akbar\",25),(\"John\",28),(\"Harika\",32),(\"Amar\",35),(\"Akbar\",40)],\n",
    "                             [\"name\",\"age\"])"
   ]
  },
  {
   "cell_type": "code",
   "execution_count": 10,
   "metadata": {},
   "outputs": [
    {
     "name": "stdout",
     "output_type": "stream",
     "text": [
      "+------+---+\n",
      "|  name|age|\n",
      "+------+---+\n",
      "|  Amar| 21|\n",
      "| Akbar| 25|\n",
      "|  John| 28|\n",
      "|Harika| 32|\n",
      "|  Amar| 35|\n",
      "| Akbar| 40|\n",
      "+------+---+\n",
      "\n"
     ]
    }
   ],
   "source": [
    "data.show()"
   ]
  },
  {
   "cell_type": "code",
   "execution_count": 11,
   "metadata": {},
   "outputs": [],
   "source": [
    "avg_df = data.groupby(\"name\").agg(avg(\"age\"))"
   ]
  },
  {
   "cell_type": "code",
   "execution_count": 12,
   "metadata": {},
   "outputs": [
    {
     "name": "stdout",
     "output_type": "stream",
     "text": [
      "+------+--------+\n",
      "|  name|avg(age)|\n",
      "+------+--------+\n",
      "|  Amar|    28.0|\n",
      "| Akbar|    32.5|\n",
      "|  John|    28.0|\n",
      "|Harika|    32.0|\n",
      "+------+--------+\n",
      "\n"
     ]
    }
   ],
   "source": [
    "avg_df.show()"
   ]
  },
  {
   "cell_type": "markdown",
   "metadata": {},
   "source": [
    "### DataFrame API"
   ]
  },
  {
   "cell_type": "markdown",
   "metadata": {},
   "source": [
    "[Spark Python Data Types](https://spark.apache.org/docs/latest/api/python/reference/pyspark.sql/data_types.html)"
   ]
  },
  {
   "attachments": {},
   "cell_type": "markdown",
   "metadata": {},
   "source": [
    "### Schemas and Creating DataFrames"
   ]
  },
  {
   "attachments": {},
   "cell_type": "markdown",
   "metadata": {},
   "source": [
    "* Spark can infer the schema from the data\n",
    "* If the dataset is large, it will be a overhead for spark to read a portion of the file and ascertain the datatype. This will be expensive and time-consuming\n",
    "* It is a good practice to define the schema upfront"
   ]
  },
  {
   "attachments": {},
   "cell_type": "markdown",
   "metadata": {},
   "source": [
    "#### Two ways to define a Schema"
   ]
  },
  {
   "cell_type": "code",
   "execution_count": 36,
   "metadata": {},
   "outputs": [],
   "source": [
    "author_data = [(\"John\", \"Doe\", \"The Great Gatsby\", 1000.00, 5),\n",
    "        (\"Jane\", \"Smith\", \"To Kill a Mockingbird\", 1200.05, 3),\n",
    "        (\"Bob\", \"Johnson\", \"Pride and Prejudice\", 800.05, 4),\n",
    "        (\"Alice\", \"Davis\", \"The Catcher in the Rye\", 900.00, 2),\n",
    "        (\"Charlie\", \"Brown\", \"Moby-Dick\", 700.30, 6),\n",
    "        (\"Emily\", \"Wilson\", \"Wuthering Heights\", 1100.05, 1),\n",
    "        (\"Frank\", \"Garcia\", \"1984\", 1300.06, 7),\n",
    "        (\"Grace\", \"Martinez\", \"The Odyssey\", 600.00, 3),\n",
    "        (\"Henry\", \"Anderson\", \"War and Peace\", 1400.75, 8),\n",
    "        (\"Isabella\", \"Taylor\", \"The Divine Comedy\", 500.00, 2)]"
   ]
  },
  {
   "cell_type": "code",
   "execution_count": 37,
   "metadata": {},
   "outputs": [],
   "source": [
    "from pyspark.sql.types import *\n",
    "schema = StructType(\n",
    "    [StructField(\"name\", StringType(), False),\n",
    "     StructField(\"surname\", StringType(), False),\n",
    "     StructField(\"book\", StringType(), False),\n",
    "     StructField(\"price\", FloatType(), False),\n",
    "     StructField(\"rating\", IntegerType(), False)\n",
    "     ])"
   ]
  },
  {
   "cell_type": "code",
   "execution_count": 38,
   "metadata": {},
   "outputs": [],
   "source": [
    "spark = (SparkSession\n",
    "         .builder\n",
    "         .appName(\"secondProgram\")\n",
    "         .getOrCreate())"
   ]
  },
  {
   "cell_type": "code",
   "execution_count": 39,
   "metadata": {},
   "outputs": [],
   "source": [
    "author_data = spark.createDataFrame(author_data,schema)"
   ]
  },
  {
   "cell_type": "code",
   "execution_count": 40,
   "metadata": {},
   "outputs": [
    {
     "name": "stdout",
     "output_type": "stream",
     "text": [
      "+--------+--------+--------------------+-------+------+\n",
      "|    name| surname|                book|  price|rating|\n",
      "+--------+--------+--------------------+-------+------+\n",
      "|    John|     Doe|    The Great Gatsby| 1000.0|     5|\n",
      "|    Jane|   Smith|To Kill a Mocking...|1200.05|     3|\n",
      "|     Bob| Johnson| Pride and Prejudice| 800.05|     4|\n",
      "|   Alice|   Davis|The Catcher in th...|  900.0|     2|\n",
      "| Charlie|   Brown|           Moby-Dick|  700.3|     6|\n",
      "|   Emily|  Wilson|   Wuthering Heights|1100.05|     1|\n",
      "|   Frank|  Garcia|                1984|1300.06|     7|\n",
      "|   Grace|Martinez|         The Odyssey|  600.0|     3|\n",
      "|   Henry|Anderson|       War and Peace|1400.75|     8|\n",
      "|Isabella|  Taylor|   The Divine Comedy|  500.0|     2|\n",
      "+--------+--------+--------------------+-------+------+\n",
      "\n"
     ]
    }
   ],
   "source": [
    "author_data.show()"
   ]
  },
  {
   "cell_type": "code",
   "execution_count": 41,
   "metadata": {},
   "outputs": [
    {
     "name": "stdout",
     "output_type": "stream",
     "text": [
      "root\n",
      " |-- name: string (nullable = false)\n",
      " |-- surname: string (nullable = false)\n",
      " |-- book: string (nullable = false)\n",
      " |-- price: float (nullable = false)\n",
      " |-- rating: integer (nullable = false)\n",
      "\n"
     ]
    }
   ],
   "source": [
    "author_data.printSchema()"
   ]
  },
  {
   "cell_type": "code",
   "execution_count": 42,
   "metadata": {},
   "outputs": [
    {
     "data": {
      "text/plain": [
       "StructType([StructField('name', StringType(), False), StructField('surname', StringType(), False), StructField('book', StringType(), False), StructField('price', FloatType(), False), StructField('rating', IntegerType(), False)])"
      ]
     },
     "execution_count": 42,
     "metadata": {},
     "output_type": "execute_result"
    }
   ],
   "source": [
    "author_data.schema"
   ]
  },
  {
   "cell_type": "code",
   "execution_count": null,
   "metadata": {},
   "outputs": [],
   "source": []
  }
 ],
 "metadata": {
  "kernelspec": {
   "display_name": "spark_learn",
   "language": "python",
   "name": "python3"
  },
  "language_info": {
   "codemirror_mode": {
    "name": "ipython",
    "version": 3
   },
   "file_extension": ".py",
   "mimetype": "text/x-python",
   "name": "python",
   "nbconvert_exporter": "python",
   "pygments_lexer": "ipython3",
   "version": "3.9.0"
  },
  "orig_nbformat": 4
 },
 "nbformat": 4,
 "nbformat_minor": 2
}
